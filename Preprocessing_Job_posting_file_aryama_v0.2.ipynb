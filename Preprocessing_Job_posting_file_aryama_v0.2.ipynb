{
 "cells": [
  {
   "cell_type": "code",
   "execution_count": 205,
   "id": "71d1a961",
   "metadata": {},
   "outputs": [],
   "source": [
    "import os\n",
    "import pandas as pd\n",
    "import datetime as dt\n",
    "import numpy as np\n",
    "import unicodedata\n",
    "import re\n",
    "from datetime import datetime"
   ]
  },
  {
   "cell_type": "code",
   "execution_count": 206,
   "id": "6f91f4e5",
   "metadata": {},
   "outputs": [],
   "source": [
    "# read job postings file\n",
    "jobpost_df = pd.read_csv('../job_postings.csv')"
   ]
  },
  {
   "cell_type": "code",
   "execution_count": 207,
   "id": "91fc0f27",
   "metadata": {},
   "outputs": [
    {
     "data": {
      "text/html": [
       "<div>\n",
       "<style scoped>\n",
       "    .dataframe tbody tr th:only-of-type {\n",
       "        vertical-align: middle;\n",
       "    }\n",
       "\n",
       "    .dataframe tbody tr th {\n",
       "        vertical-align: top;\n",
       "    }\n",
       "\n",
       "    .dataframe thead th {\n",
       "        text-align: right;\n",
       "    }\n",
       "</style>\n",
       "<table border=\"1\" class=\"dataframe\">\n",
       "  <thead>\n",
       "    <tr style=\"text-align: right;\">\n",
       "      <th></th>\n",
       "      <th>job_id</th>\n",
       "      <th>company_id</th>\n",
       "      <th>title</th>\n",
       "      <th>description</th>\n",
       "      <th>max_salary</th>\n",
       "      <th>med_salary</th>\n",
       "      <th>min_salary</th>\n",
       "      <th>pay_period</th>\n",
       "      <th>formatted_work_type</th>\n",
       "      <th>location</th>\n",
       "      <th>...</th>\n",
       "      <th>expiry</th>\n",
       "      <th>closed_time</th>\n",
       "      <th>formatted_experience_level</th>\n",
       "      <th>skills_desc</th>\n",
       "      <th>listed_time</th>\n",
       "      <th>posting_domain</th>\n",
       "      <th>sponsored</th>\n",
       "      <th>work_type</th>\n",
       "      <th>currency</th>\n",
       "      <th>compensation_type</th>\n",
       "    </tr>\n",
       "  </thead>\n",
       "  <tbody>\n",
       "    <tr>\n",
       "      <th>0</th>\n",
       "      <td>85008768</td>\n",
       "      <td>NaN</td>\n",
       "      <td>Licensed Insurance Agent</td>\n",
       "      <td>While many industries were hurt by the last fe...</td>\n",
       "      <td>52000.0</td>\n",
       "      <td>NaN</td>\n",
       "      <td>45760.0</td>\n",
       "      <td>YEARLY</td>\n",
       "      <td>Full-time</td>\n",
       "      <td>Chico, CA</td>\n",
       "      <td>...</td>\n",
       "      <td>1.710000e+12</td>\n",
       "      <td>NaN</td>\n",
       "      <td>NaN</td>\n",
       "      <td>NaN</td>\n",
       "      <td>1.690000e+12</td>\n",
       "      <td>NaN</td>\n",
       "      <td>1</td>\n",
       "      <td>FULL_TIME</td>\n",
       "      <td>USD</td>\n",
       "      <td>BASE_SALARY</td>\n",
       "    </tr>\n",
       "    <tr>\n",
       "      <th>1</th>\n",
       "      <td>133114754</td>\n",
       "      <td>77766802.0</td>\n",
       "      <td>Sales Manager</td>\n",
       "      <td>Are you a dynamic and creative marketing profe...</td>\n",
       "      <td>NaN</td>\n",
       "      <td>NaN</td>\n",
       "      <td>NaN</td>\n",
       "      <td>NaN</td>\n",
       "      <td>Full-time</td>\n",
       "      <td>Santa Clarita, CA</td>\n",
       "      <td>...</td>\n",
       "      <td>1.700000e+12</td>\n",
       "      <td>NaN</td>\n",
       "      <td>NaN</td>\n",
       "      <td>NaN</td>\n",
       "      <td>1.690000e+12</td>\n",
       "      <td>NaN</td>\n",
       "      <td>0</td>\n",
       "      <td>FULL_TIME</td>\n",
       "      <td>NaN</td>\n",
       "      <td>NaN</td>\n",
       "    </tr>\n",
       "    <tr>\n",
       "      <th>2</th>\n",
       "      <td>133196985</td>\n",
       "      <td>1089558.0</td>\n",
       "      <td>Model Risk Auditor</td>\n",
       "      <td>Join Us as a Model Risk Auditor – Showcase You...</td>\n",
       "      <td>NaN</td>\n",
       "      <td>NaN</td>\n",
       "      <td>NaN</td>\n",
       "      <td>NaN</td>\n",
       "      <td>Contract</td>\n",
       "      <td>New York, NY</td>\n",
       "      <td>...</td>\n",
       "      <td>1.700000e+12</td>\n",
       "      <td>NaN</td>\n",
       "      <td>NaN</td>\n",
       "      <td>NaN</td>\n",
       "      <td>1.690000e+12</td>\n",
       "      <td>NaN</td>\n",
       "      <td>0</td>\n",
       "      <td>CONTRACT</td>\n",
       "      <td>NaN</td>\n",
       "      <td>NaN</td>\n",
       "    </tr>\n",
       "    <tr>\n",
       "      <th>3</th>\n",
       "      <td>381055942</td>\n",
       "      <td>96654609.0</td>\n",
       "      <td>Business Manager</td>\n",
       "      <td>Business ManagerFirst Baptist Church ForneyFor...</td>\n",
       "      <td>NaN</td>\n",
       "      <td>NaN</td>\n",
       "      <td>NaN</td>\n",
       "      <td>NaN</td>\n",
       "      <td>Full-time</td>\n",
       "      <td>Forney, TX</td>\n",
       "      <td>...</td>\n",
       "      <td>1.700000e+12</td>\n",
       "      <td>NaN</td>\n",
       "      <td>NaN</td>\n",
       "      <td>NaN</td>\n",
       "      <td>1.690000e+12</td>\n",
       "      <td>NaN</td>\n",
       "      <td>0</td>\n",
       "      <td>FULL_TIME</td>\n",
       "      <td>NaN</td>\n",
       "      <td>NaN</td>\n",
       "    </tr>\n",
       "    <tr>\n",
       "      <th>4</th>\n",
       "      <td>529257371</td>\n",
       "      <td>1244539.0</td>\n",
       "      <td>NY Studio Assistant</td>\n",
       "      <td>YOU COULD BE ONE OF THE MAGIC MAKERS\\nKen Fulk...</td>\n",
       "      <td>NaN</td>\n",
       "      <td>NaN</td>\n",
       "      <td>NaN</td>\n",
       "      <td>NaN</td>\n",
       "      <td>Full-time</td>\n",
       "      <td>New York, NY</td>\n",
       "      <td>...</td>\n",
       "      <td>1.710000e+12</td>\n",
       "      <td>NaN</td>\n",
       "      <td>NaN</td>\n",
       "      <td>NaN</td>\n",
       "      <td>1.690000e+12</td>\n",
       "      <td>NaN</td>\n",
       "      <td>1</td>\n",
       "      <td>FULL_TIME</td>\n",
       "      <td>NaN</td>\n",
       "      <td>NaN</td>\n",
       "    </tr>\n",
       "  </tbody>\n",
       "</table>\n",
       "<p>5 rows × 27 columns</p>\n",
       "</div>"
      ],
      "text/plain": [
       "      job_id  company_id                     title  \\\n",
       "0   85008768         NaN  Licensed Insurance Agent   \n",
       "1  133114754  77766802.0             Sales Manager   \n",
       "2  133196985   1089558.0        Model Risk Auditor   \n",
       "3  381055942  96654609.0          Business Manager   \n",
       "4  529257371   1244539.0       NY Studio Assistant   \n",
       "\n",
       "                                         description  max_salary  med_salary  \\\n",
       "0  While many industries were hurt by the last fe...     52000.0         NaN   \n",
       "1  Are you a dynamic and creative marketing profe...         NaN         NaN   \n",
       "2  Join Us as a Model Risk Auditor – Showcase You...         NaN         NaN   \n",
       "3  Business ManagerFirst Baptist Church ForneyFor...         NaN         NaN   \n",
       "4  YOU COULD BE ONE OF THE MAGIC MAKERS\\nKen Fulk...         NaN         NaN   \n",
       "\n",
       "   min_salary pay_period formatted_work_type           location  ...  \\\n",
       "0     45760.0     YEARLY           Full-time          Chico, CA  ...   \n",
       "1         NaN        NaN           Full-time  Santa Clarita, CA  ...   \n",
       "2         NaN        NaN            Contract       New York, NY  ...   \n",
       "3         NaN        NaN           Full-time         Forney, TX  ...   \n",
       "4         NaN        NaN           Full-time       New York, NY  ...   \n",
       "\n",
       "         expiry  closed_time  formatted_experience_level  skills_desc  \\\n",
       "0  1.710000e+12          NaN                         NaN          NaN   \n",
       "1  1.700000e+12          NaN                         NaN          NaN   \n",
       "2  1.700000e+12          NaN                         NaN          NaN   \n",
       "3  1.700000e+12          NaN                         NaN          NaN   \n",
       "4  1.710000e+12          NaN                         NaN          NaN   \n",
       "\n",
       "    listed_time posting_domain sponsored  work_type  currency  \\\n",
       "0  1.690000e+12            NaN         1  FULL_TIME       USD   \n",
       "1  1.690000e+12            NaN         0  FULL_TIME       NaN   \n",
       "2  1.690000e+12            NaN         0   CONTRACT       NaN   \n",
       "3  1.690000e+12            NaN         0  FULL_TIME       NaN   \n",
       "4  1.690000e+12            NaN         1  FULL_TIME       NaN   \n",
       "\n",
       "  compensation_type  \n",
       "0       BASE_SALARY  \n",
       "1               NaN  \n",
       "2               NaN  \n",
       "3               NaN  \n",
       "4               NaN  \n",
       "\n",
       "[5 rows x 27 columns]"
      ]
     },
     "execution_count": 207,
     "metadata": {},
     "output_type": "execute_result"
    }
   ],
   "source": [
    "jobpost_df.head()"
   ]
  },
  {
   "cell_type": "code",
   "execution_count": 208,
   "id": "7b72705a",
   "metadata": {},
   "outputs": [
    {
     "data": {
      "text/plain": [
       "(15886, 27)"
      ]
     },
     "execution_count": 208,
     "metadata": {},
     "output_type": "execute_result"
    }
   ],
   "source": [
    "jobpost_df.shape"
   ]
  },
  {
   "cell_type": "code",
   "execution_count": 209,
   "id": "8221fe2b",
   "metadata": {},
   "outputs": [
    {
     "name": "stdout",
     "output_type": "stream",
     "text": [
      "<class 'pandas.core.frame.DataFrame'>\n",
      "RangeIndex: 15886 entries, 0 to 15885\n",
      "Data columns (total 27 columns):\n",
      " #   Column                      Non-Null Count  Dtype  \n",
      "---  ------                      --------------  -----  \n",
      " 0   job_id                      15886 non-null  int64  \n",
      " 1   company_id                  15520 non-null  float64\n",
      " 2   title                       15886 non-null  object \n",
      " 3   description                 15885 non-null  object \n",
      " 4   max_salary                  5521 non-null   float64\n",
      " 5   med_salary                  981 non-null    float64\n",
      " 6   min_salary                  5521 non-null   float64\n",
      " 7   pay_period                  6502 non-null   object \n",
      " 8   formatted_work_type         15886 non-null  object \n",
      " 9   location                    15886 non-null  object \n",
      " 10  applies                     8700 non-null   float64\n",
      " 11  original_listed_time        15886 non-null  float64\n",
      " 12  remote_allowed              2340 non-null   float64\n",
      " 13  views                       13123 non-null  float64\n",
      " 14  job_posting_url             15886 non-null  object \n",
      " 15  application_url             9795 non-null   object \n",
      " 16  application_type            15886 non-null  object \n",
      " 17  expiry                      15886 non-null  float64\n",
      " 18  closed_time                 928 non-null    float64\n",
      " 19  formatted_experience_level  10984 non-null  object \n",
      " 20  skills_desc                 144 non-null    object \n",
      " 21  listed_time                 15886 non-null  float64\n",
      " 22  posting_domain              9044 non-null   object \n",
      " 23  sponsored                   15886 non-null  int64  \n",
      " 24  work_type                   15886 non-null  object \n",
      " 25  currency                    6502 non-null   object \n",
      " 26  compensation_type           6502 non-null   object \n",
      "dtypes: float64(11), int64(2), object(14)\n",
      "memory usage: 3.3+ MB\n"
     ]
    }
   ],
   "source": [
    "#Checking data types in Job postings dataset\n",
    "jobpost_df.info()"
   ]
  },
  {
   "cell_type": "code",
   "execution_count": 210,
   "id": "fbf5ed1b",
   "metadata": {},
   "outputs": [
    {
     "data": {
      "text/plain": [
       "job_id                            0\n",
       "company_id                      366\n",
       "title                             0\n",
       "description                       1\n",
       "max_salary                    10365\n",
       "med_salary                    14905\n",
       "min_salary                    10365\n",
       "pay_period                     9384\n",
       "formatted_work_type               0\n",
       "location                          0\n",
       "applies                        7186\n",
       "original_listed_time              0\n",
       "remote_allowed                13546\n",
       "views                          2763\n",
       "job_posting_url                   0\n",
       "application_url                6091\n",
       "application_type                  0\n",
       "expiry                            0\n",
       "closed_time                   14958\n",
       "formatted_experience_level     4902\n",
       "skills_desc                   15742\n",
       "listed_time                       0\n",
       "posting_domain                 6842\n",
       "sponsored                         0\n",
       "work_type                         0\n",
       "currency                       9384\n",
       "compensation_type              9384\n",
       "dtype: int64"
      ]
     },
     "execution_count": 210,
     "metadata": {},
     "output_type": "execute_result"
    }
   ],
   "source": [
    "# Checking null values in each columns\n",
    "jobpost_df.isnull().sum()"
   ]
  },
  {
   "cell_type": "code",
   "execution_count": 211,
   "id": "e52082dd",
   "metadata": {},
   "outputs": [],
   "source": [
    "#Missing value percentage in each column\n",
    "percent_missing = jobpost_df.isnull().sum() * 100 / len(jobpost_df)\n",
    "missing_val_jobpost_df = pd.DataFrame({'column_name': jobpost_df.columns,\n",
    "                                 'percent_missing': percent_missing})"
   ]
  },
  {
   "cell_type": "code",
   "execution_count": 212,
   "id": "850c331c",
   "metadata": {},
   "outputs": [
    {
     "data": {
      "text/html": [
       "<div>\n",
       "<style scoped>\n",
       "    .dataframe tbody tr th:only-of-type {\n",
       "        vertical-align: middle;\n",
       "    }\n",
       "\n",
       "    .dataframe tbody tr th {\n",
       "        vertical-align: top;\n",
       "    }\n",
       "\n",
       "    .dataframe thead th {\n",
       "        text-align: right;\n",
       "    }\n",
       "</style>\n",
       "<table border=\"1\" class=\"dataframe\">\n",
       "  <thead>\n",
       "    <tr style=\"text-align: right;\">\n",
       "      <th></th>\n",
       "      <th>column_name</th>\n",
       "      <th>percent_missing</th>\n",
       "    </tr>\n",
       "  </thead>\n",
       "  <tbody>\n",
       "    <tr>\n",
       "      <th>job_id</th>\n",
       "      <td>job_id</td>\n",
       "      <td>0.000000</td>\n",
       "    </tr>\n",
       "    <tr>\n",
       "      <th>company_id</th>\n",
       "      <td>company_id</td>\n",
       "      <td>2.303915</td>\n",
       "    </tr>\n",
       "    <tr>\n",
       "      <th>title</th>\n",
       "      <td>title</td>\n",
       "      <td>0.000000</td>\n",
       "    </tr>\n",
       "    <tr>\n",
       "      <th>description</th>\n",
       "      <td>description</td>\n",
       "      <td>0.006295</td>\n",
       "    </tr>\n",
       "    <tr>\n",
       "      <th>max_salary</th>\n",
       "      <td>max_salary</td>\n",
       "      <td>65.246129</td>\n",
       "    </tr>\n",
       "    <tr>\n",
       "      <th>med_salary</th>\n",
       "      <td>med_salary</td>\n",
       "      <td>93.824751</td>\n",
       "    </tr>\n",
       "    <tr>\n",
       "      <th>min_salary</th>\n",
       "      <td>min_salary</td>\n",
       "      <td>65.246129</td>\n",
       "    </tr>\n",
       "    <tr>\n",
       "      <th>pay_period</th>\n",
       "      <td>pay_period</td>\n",
       "      <td>59.070880</td>\n",
       "    </tr>\n",
       "    <tr>\n",
       "      <th>formatted_work_type</th>\n",
       "      <td>formatted_work_type</td>\n",
       "      <td>0.000000</td>\n",
       "    </tr>\n",
       "    <tr>\n",
       "      <th>location</th>\n",
       "      <td>location</td>\n",
       "      <td>0.000000</td>\n",
       "    </tr>\n",
       "    <tr>\n",
       "      <th>applies</th>\n",
       "      <td>applies</td>\n",
       "      <td>45.234798</td>\n",
       "    </tr>\n",
       "    <tr>\n",
       "      <th>original_listed_time</th>\n",
       "      <td>original_listed_time</td>\n",
       "      <td>0.000000</td>\n",
       "    </tr>\n",
       "    <tr>\n",
       "      <th>remote_allowed</th>\n",
       "      <td>remote_allowed</td>\n",
       "      <td>85.270049</td>\n",
       "    </tr>\n",
       "    <tr>\n",
       "      <th>views</th>\n",
       "      <td>views</td>\n",
       "      <td>17.392673</td>\n",
       "    </tr>\n",
       "    <tr>\n",
       "      <th>job_posting_url</th>\n",
       "      <td>job_posting_url</td>\n",
       "      <td>0.000000</td>\n",
       "    </tr>\n",
       "    <tr>\n",
       "      <th>application_url</th>\n",
       "      <td>application_url</td>\n",
       "      <td>38.341936</td>\n",
       "    </tr>\n",
       "    <tr>\n",
       "      <th>application_type</th>\n",
       "      <td>application_type</td>\n",
       "      <td>0.000000</td>\n",
       "    </tr>\n",
       "    <tr>\n",
       "      <th>expiry</th>\n",
       "      <td>expiry</td>\n",
       "      <td>0.000000</td>\n",
       "    </tr>\n",
       "    <tr>\n",
       "      <th>closed_time</th>\n",
       "      <td>closed_time</td>\n",
       "      <td>94.158378</td>\n",
       "    </tr>\n",
       "    <tr>\n",
       "      <th>formatted_experience_level</th>\n",
       "      <td>formatted_experience_level</td>\n",
       "      <td>30.857359</td>\n",
       "    </tr>\n",
       "    <tr>\n",
       "      <th>skills_desc</th>\n",
       "      <td>skills_desc</td>\n",
       "      <td>99.093541</td>\n",
       "    </tr>\n",
       "    <tr>\n",
       "      <th>listed_time</th>\n",
       "      <td>listed_time</td>\n",
       "      <td>0.000000</td>\n",
       "    </tr>\n",
       "    <tr>\n",
       "      <th>posting_domain</th>\n",
       "      <td>posting_domain</td>\n",
       "      <td>43.069369</td>\n",
       "    </tr>\n",
       "    <tr>\n",
       "      <th>sponsored</th>\n",
       "      <td>sponsored</td>\n",
       "      <td>0.000000</td>\n",
       "    </tr>\n",
       "    <tr>\n",
       "      <th>work_type</th>\n",
       "      <td>work_type</td>\n",
       "      <td>0.000000</td>\n",
       "    </tr>\n",
       "    <tr>\n",
       "      <th>currency</th>\n",
       "      <td>currency</td>\n",
       "      <td>59.070880</td>\n",
       "    </tr>\n",
       "    <tr>\n",
       "      <th>compensation_type</th>\n",
       "      <td>compensation_type</td>\n",
       "      <td>59.070880</td>\n",
       "    </tr>\n",
       "  </tbody>\n",
       "</table>\n",
       "</div>"
      ],
      "text/plain": [
       "                                           column_name  percent_missing\n",
       "job_id                                          job_id         0.000000\n",
       "company_id                                  company_id         2.303915\n",
       "title                                            title         0.000000\n",
       "description                                description         0.006295\n",
       "max_salary                                  max_salary        65.246129\n",
       "med_salary                                  med_salary        93.824751\n",
       "min_salary                                  min_salary        65.246129\n",
       "pay_period                                  pay_period        59.070880\n",
       "formatted_work_type                formatted_work_type         0.000000\n",
       "location                                      location         0.000000\n",
       "applies                                        applies        45.234798\n",
       "original_listed_time              original_listed_time         0.000000\n",
       "remote_allowed                          remote_allowed        85.270049\n",
       "views                                            views        17.392673\n",
       "job_posting_url                        job_posting_url         0.000000\n",
       "application_url                        application_url        38.341936\n",
       "application_type                      application_type         0.000000\n",
       "expiry                                          expiry         0.000000\n",
       "closed_time                                closed_time        94.158378\n",
       "formatted_experience_level  formatted_experience_level        30.857359\n",
       "skills_desc                                skills_desc        99.093541\n",
       "listed_time                                listed_time         0.000000\n",
       "posting_domain                          posting_domain        43.069369\n",
       "sponsored                                    sponsored         0.000000\n",
       "work_type                                    work_type         0.000000\n",
       "currency                                      currency        59.070880\n",
       "compensation_type                    compensation_type        59.070880"
      ]
     },
     "execution_count": 212,
     "metadata": {},
     "output_type": "execute_result"
    }
   ],
   "source": [
    "missing_val_jobpost_df"
   ]
  },
  {
   "cell_type": "code",
   "execution_count": 213,
   "id": "af960158",
   "metadata": {},
   "outputs": [],
   "source": [
    "#Since skills_desc column has 99% null values, we are dropping the attribute.\n",
    "jobpost_df_bakup=jobpost_df #before dropping columns taking a back up\n",
    "#jobpost_df=jobpost_df_bakup"
   ]
  },
  {
   "cell_type": "code",
   "execution_count": 214,
   "id": "21495020",
   "metadata": {},
   "outputs": [],
   "source": [
    "jobpost_df.drop('skills_desc', axis = 1, inplace = True)"
   ]
  },
  {
   "cell_type": "code",
   "execution_count": 215,
   "id": "06fad024",
   "metadata": {},
   "outputs": [
    {
     "data": {
      "text/plain": [
       "Index(['job_id', 'company_id', 'title', 'description', 'max_salary',\n",
       "       'med_salary', 'min_salary', 'pay_period', 'formatted_work_type',\n",
       "       'location', 'applies', 'original_listed_time', 'remote_allowed',\n",
       "       'views', 'job_posting_url', 'application_url', 'application_type',\n",
       "       'expiry', 'closed_time', 'formatted_experience_level', 'listed_time',\n",
       "       'posting_domain', 'sponsored', 'work_type', 'currency',\n",
       "       'compensation_type'],\n",
       "      dtype='object')"
      ]
     },
     "execution_count": 215,
     "metadata": {},
     "output_type": "execute_result"
    }
   ],
   "source": [
    "jobpost_df.columns"
   ]
  },
  {
   "cell_type": "code",
   "execution_count": 216,
   "id": "bffe3509",
   "metadata": {},
   "outputs": [],
   "source": [
    "#Also, closed_time , med_salary has more than 90% null value data. So we are removing them.\n",
    "jobpost_df.drop(['closed_time','med_salary','remote_allowed'],axis=1,inplace=True)"
   ]
  },
  {
   "cell_type": "code",
   "execution_count": 217,
   "id": "2208f7ce",
   "metadata": {},
   "outputs": [],
   "source": [
    "#description column is too wordy and we assume that this column is out of scope for our analysis.\n",
    "jobpost_df.drop('description',axis=1,inplace=True)\n"
   ]
  },
  {
   "cell_type": "code",
   "execution_count": 218,
   "id": "02bf7f5d",
   "metadata": {},
   "outputs": [
    {
     "data": {
      "text/plain": [
       "Index(['job_id', 'company_id', 'title', 'max_salary', 'min_salary',\n",
       "       'pay_period', 'formatted_work_type', 'location', 'applies',\n",
       "       'original_listed_time', 'views', 'job_posting_url', 'application_url',\n",
       "       'application_type', 'expiry', 'formatted_experience_level',\n",
       "       'listed_time', 'posting_domain', 'sponsored', 'work_type', 'currency',\n",
       "       'compensation_type'],\n",
       "      dtype='object')"
      ]
     },
     "execution_count": 218,
     "metadata": {},
     "output_type": "execute_result"
    }
   ],
   "source": [
    "jobpost_df.columns"
   ]
  },
  {
   "cell_type": "code",
   "execution_count": 219,
   "id": "e83e5c54",
   "metadata": {},
   "outputs": [],
   "source": [
    "##Checking numerical fields with null values\n",
    "#max_salary,min_salary,applies and views have considerable amount of null values but less than 80%.\n",
    "## Since they are of continuous data type, we will impute them with median values."
   ]
  },
  {
   "cell_type": "code",
   "execution_count": 220,
   "id": "ba654d92",
   "metadata": {},
   "outputs": [],
   "source": [
    "jobpost_df['max_salary'].fillna(value = jobpost_df.max_salary.median(), inplace = True)\n",
    "jobpost_df['min_salary'].fillna(value = jobpost_df.min_salary.median(), inplace = True)\n",
    "jobpost_df['applies'].fillna(value = jobpost_df.applies.median(), inplace = True)\n",
    "jobpost_df['views'].fillna(value = jobpost_df.views.median(), inplace = True)"
   ]
  },
  {
   "cell_type": "code",
   "execution_count": 221,
   "id": "f9fef6e6",
   "metadata": {},
   "outputs": [
    {
     "data": {
      "text/plain": [
       "job_id                           0\n",
       "company_id                     366\n",
       "title                            0\n",
       "max_salary                       0\n",
       "min_salary                       0\n",
       "pay_period                    9384\n",
       "formatted_work_type              0\n",
       "location                         0\n",
       "applies                          0\n",
       "original_listed_time             0\n",
       "views                            0\n",
       "job_posting_url                  0\n",
       "application_url               6091\n",
       "application_type                 0\n",
       "expiry                           0\n",
       "formatted_experience_level    4902\n",
       "listed_time                      0\n",
       "posting_domain                6842\n",
       "sponsored                        0\n",
       "work_type                        0\n",
       "currency                      9384\n",
       "compensation_type             9384\n",
       "dtype: int64"
      ]
     },
     "execution_count": 221,
     "metadata": {},
     "output_type": "execute_result"
    }
   ],
   "source": [
    "# Checking null values again in each columns\n",
    "jobpost_df.isnull().sum()"
   ]
  },
  {
   "cell_type": "code",
   "execution_count": 222,
   "id": "38693031",
   "metadata": {
    "scrolled": true
   },
   "outputs": [
    {
     "data": {
      "text/html": [
       "<div>\n",
       "<style scoped>\n",
       "    .dataframe tbody tr th:only-of-type {\n",
       "        vertical-align: middle;\n",
       "    }\n",
       "\n",
       "    .dataframe tbody tr th {\n",
       "        vertical-align: top;\n",
       "    }\n",
       "\n",
       "    .dataframe thead th {\n",
       "        text-align: right;\n",
       "    }\n",
       "</style>\n",
       "<table border=\"1\" class=\"dataframe\">\n",
       "  <thead>\n",
       "    <tr style=\"text-align: right;\">\n",
       "      <th></th>\n",
       "      <th>pay_period</th>\n",
       "      <th>formatted_experience_level</th>\n",
       "      <th>posting_domain</th>\n",
       "      <th>currency</th>\n",
       "      <th>compensation_type</th>\n",
       "    </tr>\n",
       "  </thead>\n",
       "  <tbody>\n",
       "    <tr>\n",
       "      <th>0</th>\n",
       "      <td>YEARLY</td>\n",
       "      <td>NaN</td>\n",
       "      <td>NaN</td>\n",
       "      <td>USD</td>\n",
       "      <td>BASE_SALARY</td>\n",
       "    </tr>\n",
       "    <tr>\n",
       "      <th>1</th>\n",
       "      <td>NaN</td>\n",
       "      <td>NaN</td>\n",
       "      <td>NaN</td>\n",
       "      <td>NaN</td>\n",
       "      <td>NaN</td>\n",
       "    </tr>\n",
       "    <tr>\n",
       "      <th>2</th>\n",
       "      <td>NaN</td>\n",
       "      <td>NaN</td>\n",
       "      <td>NaN</td>\n",
       "      <td>NaN</td>\n",
       "      <td>NaN</td>\n",
       "    </tr>\n",
       "    <tr>\n",
       "      <th>3</th>\n",
       "      <td>NaN</td>\n",
       "      <td>NaN</td>\n",
       "      <td>NaN</td>\n",
       "      <td>NaN</td>\n",
       "      <td>NaN</td>\n",
       "    </tr>\n",
       "    <tr>\n",
       "      <th>4</th>\n",
       "      <td>NaN</td>\n",
       "      <td>NaN</td>\n",
       "      <td>NaN</td>\n",
       "      <td>NaN</td>\n",
       "      <td>NaN</td>\n",
       "    </tr>\n",
       "    <tr>\n",
       "      <th>...</th>\n",
       "      <td>...</td>\n",
       "      <td>...</td>\n",
       "      <td>...</td>\n",
       "      <td>...</td>\n",
       "      <td>...</td>\n",
       "    </tr>\n",
       "    <tr>\n",
       "      <th>15881</th>\n",
       "      <td>NaN</td>\n",
       "      <td>Entry level</td>\n",
       "      <td>aspirebakeriescareers.com</td>\n",
       "      <td>NaN</td>\n",
       "      <td>NaN</td>\n",
       "    </tr>\n",
       "    <tr>\n",
       "      <th>15882</th>\n",
       "      <td>NaN</td>\n",
       "      <td>Entry level</td>\n",
       "      <td>recruiting.ultipro.com</td>\n",
       "      <td>NaN</td>\n",
       "      <td>NaN</td>\n",
       "    </tr>\n",
       "    <tr>\n",
       "      <th>15883</th>\n",
       "      <td>NaN</td>\n",
       "      <td>Entry level</td>\n",
       "      <td>recruiting.ultipro.com</td>\n",
       "      <td>NaN</td>\n",
       "      <td>NaN</td>\n",
       "    </tr>\n",
       "    <tr>\n",
       "      <th>15884</th>\n",
       "      <td>YEARLY</td>\n",
       "      <td>Mid-Senior level</td>\n",
       "      <td>opportunities.columbia.edu</td>\n",
       "      <td>USD</td>\n",
       "      <td>BASE_SALARY</td>\n",
       "    </tr>\n",
       "    <tr>\n",
       "      <th>15885</th>\n",
       "      <td>NaN</td>\n",
       "      <td>NaN</td>\n",
       "      <td>NaN</td>\n",
       "      <td>NaN</td>\n",
       "      <td>NaN</td>\n",
       "    </tr>\n",
       "  </tbody>\n",
       "</table>\n",
       "<p>15886 rows × 5 columns</p>\n",
       "</div>"
      ],
      "text/plain": [
       "      pay_period formatted_experience_level              posting_domain  \\\n",
       "0         YEARLY                        NaN                         NaN   \n",
       "1            NaN                        NaN                         NaN   \n",
       "2            NaN                        NaN                         NaN   \n",
       "3            NaN                        NaN                         NaN   \n",
       "4            NaN                        NaN                         NaN   \n",
       "...          ...                        ...                         ...   \n",
       "15881        NaN                Entry level   aspirebakeriescareers.com   \n",
       "15882        NaN                Entry level      recruiting.ultipro.com   \n",
       "15883        NaN                Entry level      recruiting.ultipro.com   \n",
       "15884     YEARLY           Mid-Senior level  opportunities.columbia.edu   \n",
       "15885        NaN                        NaN                         NaN   \n",
       "\n",
       "      currency compensation_type  \n",
       "0          USD       BASE_SALARY  \n",
       "1          NaN               NaN  \n",
       "2          NaN               NaN  \n",
       "3          NaN               NaN  \n",
       "4          NaN               NaN  \n",
       "...        ...               ...  \n",
       "15881      NaN               NaN  \n",
       "15882      NaN               NaN  \n",
       "15883      NaN               NaN  \n",
       "15884      USD       BASE_SALARY  \n",
       "15885      NaN               NaN  \n",
       "\n",
       "[15886 rows x 5 columns]"
      ]
     },
     "execution_count": 222,
     "metadata": {},
     "output_type": "execute_result"
    }
   ],
   "source": [
    "jobpost_df[['pay_period','formatted_experience_level','posting_domain','currency','compensation_type']]"
   ]
  },
  {
   "cell_type": "code",
   "execution_count": 223,
   "id": "282532b5",
   "metadata": {},
   "outputs": [],
   "source": [
    "## pay_period,formatted_experience_level,posting_domain,currency,compensation_type are categorical variables.\n",
    "## Lets explore their unique categories"
   ]
  },
  {
   "cell_type": "code",
   "execution_count": 224,
   "id": "9cc88f5d",
   "metadata": {},
   "outputs": [
    {
     "data": {
      "text/plain": [
       "array(['YEARLY', nan, 'HOURLY', 'MONTHLY'], dtype=object)"
      ]
     },
     "execution_count": 224,
     "metadata": {},
     "output_type": "execute_result"
    }
   ],
   "source": [
    "jobpost_df.pay_period.unique()"
   ]
  },
  {
   "cell_type": "code",
   "execution_count": 225,
   "id": "b0eb1e29",
   "metadata": {},
   "outputs": [
    {
     "data": {
      "text/plain": [
       "array([nan, 'Entry level', 'Associate', 'Mid-Senior level', 'Director',\n",
       "       'Executive', 'Internship'], dtype=object)"
      ]
     },
     "execution_count": 225,
     "metadata": {},
     "output_type": "execute_result"
    }
   ],
   "source": [
    "jobpost_df.formatted_experience_level.unique()"
   ]
  },
  {
   "cell_type": "code",
   "execution_count": 226,
   "id": "a95bc592",
   "metadata": {},
   "outputs": [
    {
     "data": {
      "text/plain": [
       "array([nan, 'jobs.gecareers.com', 'careers.racetrac.com', ...,\n",
       "       'www.ixl.com', 'www.hrapply.com', 'opportunities.columbia.edu'],\n",
       "      dtype=object)"
      ]
     },
     "execution_count": 226,
     "metadata": {},
     "output_type": "execute_result"
    }
   ],
   "source": [
    "jobpost_df.posting_domain.unique()"
   ]
  },
  {
   "cell_type": "code",
   "execution_count": 227,
   "id": "5e97c448",
   "metadata": {},
   "outputs": [
    {
     "data": {
      "text/plain": [
       "array(['USD', nan], dtype=object)"
      ]
     },
     "execution_count": 227,
     "metadata": {},
     "output_type": "execute_result"
    }
   ],
   "source": [
    "jobpost_df.currency.unique()"
   ]
  },
  {
   "cell_type": "code",
   "execution_count": 228,
   "id": "66d47b43",
   "metadata": {},
   "outputs": [
    {
     "data": {
      "text/plain": [
       "array(['BASE_SALARY', nan], dtype=object)"
      ]
     },
     "execution_count": 228,
     "metadata": {},
     "output_type": "execute_result"
    }
   ],
   "source": [
    "jobpost_df.compensation_type.unique()"
   ]
  },
  {
   "cell_type": "code",
   "execution_count": 229,
   "id": "68d5087d",
   "metadata": {},
   "outputs": [],
   "source": [
    "# Null values in the all categorical variables will be replaced with mode values."
   ]
  },
  {
   "cell_type": "code",
   "execution_count": 230,
   "id": "7dde6cb1",
   "metadata": {},
   "outputs": [],
   "source": [
    "for column in ['pay_period', 'formatted_experience_level', 'posting_domain', 'currency', 'compensation_type']:\n",
    "    jobpost_df[column].fillna(jobpost_df[column].mode()[0], inplace=True)"
   ]
  },
  {
   "cell_type": "code",
   "execution_count": 231,
   "id": "01a8ffb5",
   "metadata": {},
   "outputs": [
    {
     "data": {
      "text/plain": [
       "job_id                           0\n",
       "company_id                     366\n",
       "title                            0\n",
       "max_salary                       0\n",
       "min_salary                       0\n",
       "pay_period                       0\n",
       "formatted_work_type              0\n",
       "location                         0\n",
       "applies                          0\n",
       "original_listed_time             0\n",
       "views                            0\n",
       "job_posting_url                  0\n",
       "application_url               6091\n",
       "application_type                 0\n",
       "expiry                           0\n",
       "formatted_experience_level       0\n",
       "listed_time                      0\n",
       "posting_domain                   0\n",
       "sponsored                        0\n",
       "work_type                        0\n",
       "currency                         0\n",
       "compensation_type                0\n",
       "dtype: int64"
      ]
     },
     "execution_count": 231,
     "metadata": {},
     "output_type": "execute_result"
    }
   ],
   "source": [
    "# Checking null values again in each columns\n",
    "jobpost_df.isnull().sum()"
   ]
  },
  {
   "cell_type": "code",
   "execution_count": 232,
   "id": "c7aadc29",
   "metadata": {},
   "outputs": [],
   "source": [
    "## description column has 1 null value and application url has 6091 null values. \n",
    "## Since these two fields are text fields, we are replacing them with value'unkown'"
   ]
  },
  {
   "cell_type": "code",
   "execution_count": 233,
   "id": "03769c20",
   "metadata": {},
   "outputs": [],
   "source": [
    "jobpost_df['application_url'].fillna('unknown',inplace=True)\n",
    "#jobpost_df['description'].fillna('unknown',inplace=True)"
   ]
  },
  {
   "cell_type": "code",
   "execution_count": 234,
   "id": "fca023d0",
   "metadata": {},
   "outputs": [
    {
     "data": {
      "text/plain": [
       "job_id                          0\n",
       "company_id                    366\n",
       "title                           0\n",
       "max_salary                      0\n",
       "min_salary                      0\n",
       "pay_period                      0\n",
       "formatted_work_type             0\n",
       "location                        0\n",
       "applies                         0\n",
       "original_listed_time            0\n",
       "views                           0\n",
       "job_posting_url                 0\n",
       "application_url                 0\n",
       "application_type                0\n",
       "expiry                          0\n",
       "formatted_experience_level      0\n",
       "listed_time                     0\n",
       "posting_domain                  0\n",
       "sponsored                       0\n",
       "work_type                       0\n",
       "currency                        0\n",
       "compensation_type               0\n",
       "dtype: int64"
      ]
     },
     "execution_count": 234,
     "metadata": {},
     "output_type": "execute_result"
    }
   ],
   "source": [
    "# Checking null values again in each columns\n",
    "jobpost_df.isnull().sum()"
   ]
  },
  {
   "cell_type": "code",
   "execution_count": 235,
   "id": "50f2541e",
   "metadata": {},
   "outputs": [],
   "source": [
    "# Since company id is numeric field and 366 data do not have compoany id, \n",
    "## we assume that remove them are not going to impact entire analysis."
   ]
  },
  {
   "cell_type": "code",
   "execution_count": 236,
   "id": "8ed04786",
   "metadata": {},
   "outputs": [],
   "source": [
    "jobpost_df.drop(jobpost_df[jobpost_df.company_id.isnull()==True].index, inplace=True)"
   ]
  },
  {
   "cell_type": "code",
   "execution_count": 237,
   "id": "aa85040d",
   "metadata": {},
   "outputs": [
    {
     "data": {
      "text/plain": [
       "job_id                        0\n",
       "company_id                    0\n",
       "title                         0\n",
       "max_salary                    0\n",
       "min_salary                    0\n",
       "pay_period                    0\n",
       "formatted_work_type           0\n",
       "location                      0\n",
       "applies                       0\n",
       "original_listed_time          0\n",
       "views                         0\n",
       "job_posting_url               0\n",
       "application_url               0\n",
       "application_type              0\n",
       "expiry                        0\n",
       "formatted_experience_level    0\n",
       "listed_time                   0\n",
       "posting_domain                0\n",
       "sponsored                     0\n",
       "work_type                     0\n",
       "currency                      0\n",
       "compensation_type             0\n",
       "dtype: int64"
      ]
     },
     "execution_count": 237,
     "metadata": {},
     "output_type": "execute_result"
    }
   ],
   "source": [
    "# Checking null values again in each columns\n",
    "jobpost_df.isnull().sum()"
   ]
  },
  {
   "cell_type": "code",
   "execution_count": 238,
   "id": "2181c4fa",
   "metadata": {},
   "outputs": [
    {
     "name": "stdout",
     "output_type": "stream",
     "text": [
      "job_id 0\n",
      "company_id 0\n",
      "title 0\n",
      "max_salary 0\n",
      "min_salary 0\n",
      "pay_period 0\n",
      "formatted_work_type 0\n",
      "location 0\n",
      "applies 0\n",
      "original_listed_time 0\n",
      "views 0\n",
      "job_posting_url 0\n",
      "application_url 0\n",
      "application_type 0\n",
      "expiry 0\n",
      "formatted_experience_level 0\n",
      "listed_time 0\n",
      "posting_domain 0\n",
      "sponsored 0\n",
      "work_type 0\n",
      "currency 0\n",
      "compensation_type 0\n"
     ]
    }
   ],
   "source": [
    "#checking for 0 values in each columns\n",
    "\n",
    "for column in jobpost_df.columns:\n",
    "    print(column,(jobpost_df[column] == '0').sum())"
   ]
  },
  {
   "cell_type": "code",
   "execution_count": 239,
   "id": "cf4ffa6c",
   "metadata": {},
   "outputs": [
    {
     "data": {
      "text/plain": [
       "[Index(['job_id', 'company_id', 'title', 'max_salary', 'min_salary',\n",
       "        'pay_period', 'formatted_work_type', 'location', 'applies',\n",
       "        'original_listed_time', 'views', 'job_posting_url', 'application_url',\n",
       "        'application_type', 'expiry', 'formatted_experience_level',\n",
       "        'listed_time', 'posting_domain', 'sponsored', 'work_type', 'currency',\n",
       "        'compensation_type'],\n",
       "       dtype='object')]"
      ]
     },
     "execution_count": 239,
     "metadata": {},
     "output_type": "execute_result"
    }
   ],
   "source": [
    "[jobpost_df.columns]"
   ]
  },
  {
   "cell_type": "code",
   "execution_count": 240,
   "id": "2863efe9",
   "metadata": {},
   "outputs": [],
   "source": [
    "## Now we we will remove nonascii characters from all variable having strings\n",
    "## description,application_url,posting_domain"
   ]
  },
  {
   "cell_type": "code",
   "execution_count": 241,
   "id": "9cca6219",
   "metadata": {},
   "outputs": [],
   "source": [
    "\n",
    "def safe_normalize(x):\n",
    "    if isinstance(x, str):\n",
    "        return unicodedata.normalize('NFC', x)\n",
    "    else:\n",
    "        return str(x)\n",
    "    \n"
   ]
  },
  {
   "cell_type": "code",
   "execution_count": 242,
   "id": "56a7f4e9",
   "metadata": {},
   "outputs": [],
   "source": [
    "#jobpost_df = jobpost_df.replace({'\\'': '', '\"': '',',':''}, regex=True)"
   ]
  },
  {
   "cell_type": "code",
   "execution_count": 243,
   "id": "7d1dfc80",
   "metadata": {},
   "outputs": [],
   "source": [
    "## Removing nonascii from description\n",
    "#jobpost_df['description'] = jobpost_df['description'].apply(safe_normalize)\n",
    "#jobpost_df['description'] = jobpost_df['description'].apply(lambda x: re.sub(r'[^\\x00-\\x7F]+', '', x))\n",
    "#jobpost_df = jobpost_df.replace({'\\'': '', '\"': '',',':''}, regex=True)"
   ]
  },
  {
   "cell_type": "code",
   "execution_count": 244,
   "id": "1fab841d",
   "metadata": {},
   "outputs": [],
   "source": [
    "## Removing nonascii from title\n",
    "jobpost_df['title'] = jobpost_df['title'].apply(safe_normalize)\n",
    "jobpost_df['title'] = jobpost_df['title'].apply(lambda x: re.sub(r'[^\\x00-\\x7F]+', '', x))"
   ]
  },
  {
   "cell_type": "code",
   "execution_count": 245,
   "id": "60a97b2f",
   "metadata": {},
   "outputs": [],
   "source": [
    "## Removing nonascii from pay_period\n",
    "jobpost_df['pay_period'] = jobpost_df['pay_period'].apply(safe_normalize)\n",
    "jobpost_df['pay_period'] = jobpost_df['pay_period'].apply(lambda x: re.sub(r'[^\\x00-\\x7F]+', '', x))"
   ]
  },
  {
   "cell_type": "code",
   "execution_count": 246,
   "id": "33cc3e12",
   "metadata": {},
   "outputs": [],
   "source": [
    "## Removing nonascii from formatted_work_type\n",
    "jobpost_df['formatted_work_type'] = jobpost_df['formatted_work_type'].apply(safe_normalize)\n",
    "jobpost_df['formatted_work_type'] = jobpost_df['formatted_work_type'].apply(lambda x: re.sub(r'[^\\x00-\\x7F]+', '', x))"
   ]
  },
  {
   "cell_type": "code",
   "execution_count": 247,
   "id": "89cf68eb",
   "metadata": {},
   "outputs": [],
   "source": [
    "## Removing nonascii from location\n",
    "jobpost_df['location'] = jobpost_df['location'].apply(safe_normalize)\n",
    "jobpost_df['location'] = jobpost_df['location'].apply(lambda x: re.sub(r'[^\\x00-\\x7F]+', '', x))\n"
   ]
  },
  {
   "cell_type": "code",
   "execution_count": 248,
   "id": "23b58a72",
   "metadata": {},
   "outputs": [],
   "source": [
    "## Removing nonascii from job_posting_url\n",
    "jobpost_df['job_posting_url'] = jobpost_df['job_posting_url'].apply(safe_normalize)\n",
    "jobpost_df['job_posting_url'] = jobpost_df['job_posting_url'].apply(lambda x: re.sub(r'[^\\x00-\\x7F]+', '', x))\n"
   ]
  },
  {
   "cell_type": "code",
   "execution_count": 249,
   "id": "f65f7ad9",
   "metadata": {},
   "outputs": [],
   "source": [
    "## Removing nonascii from application_url\n",
    "jobpost_df['application_url'] = jobpost_df['application_url'].apply(safe_normalize)\n",
    "jobpost_df['application_url'] = jobpost_df['application_url'].apply(lambda x: re.sub(r'[^\\x00-\\x7F]+', '', x))\n",
    "#jobpost_df = jobpost_df.replace({'\\'': '', '\"': '',',':''}, regex=True)"
   ]
  },
  {
   "cell_type": "code",
   "execution_count": 250,
   "id": "504c71a1",
   "metadata": {},
   "outputs": [],
   "source": [
    "## Removing nonascii from application_type\n",
    "jobpost_df['application_type'] = jobpost_df['application_type'].apply(safe_normalize)\n",
    "jobpost_df['application_type'] = jobpost_df['application_type'].apply(lambda x: re.sub(r'[^\\x00-\\x7F]+', '', x))\n",
    "#jobpost_df = jobpost_df.replace({'\\'': '', '\"': '',',':''}, regex=True)"
   ]
  },
  {
   "cell_type": "code",
   "execution_count": 251,
   "id": "34dee801",
   "metadata": {},
   "outputs": [],
   "source": [
    "## Removing nonascii from expiry\n",
    "jobpost_df['expiry'] = jobpost_df['expiry'].apply(safe_normalize)\n",
    "jobpost_df['expiry'] = jobpost_df['expiry'].apply(lambda x: re.sub(r'[^\\x00-\\x7F]+', '', x))\n",
    "#jobpost_df = jobpost_df.replace({'\\'': '', '\"': '',',':''}, regex=True)"
   ]
  },
  {
   "cell_type": "code",
   "execution_count": 252,
   "id": "dbd5d473",
   "metadata": {},
   "outputs": [],
   "source": [
    "## Removing nonascii from formatted_experience_level\n",
    "jobpost_df['formatted_experience_level'] = jobpost_df['formatted_experience_level'].apply(safe_normalize)\n",
    "jobpost_df['formatted_experience_level'] = jobpost_df['formatted_experience_level'].apply(lambda x: re.sub(r'[^\\x00-\\x7F]+', '', x))\n",
    "#jobpost_df = jobpost_df.replace({'\\'': '', '\"': '',',':''}, regex=True)"
   ]
  },
  {
   "cell_type": "code",
   "execution_count": 253,
   "id": "72979880",
   "metadata": {},
   "outputs": [],
   "source": [
    "## Removing nonascii from listed_time\n",
    "jobpost_df['listed_time'] = jobpost_df['listed_time'].apply(safe_normalize)\n",
    "jobpost_df['listed_time'] = jobpost_df['listed_time'].apply(lambda x: re.sub(r'[^\\x00-\\x7F]+', '', x))\n",
    "#jobpost_df = jobpost_df.replace({'\\'': '', '\"': '',',':''}, regex=True)"
   ]
  },
  {
   "cell_type": "code",
   "execution_count": 254,
   "id": "f6073282",
   "metadata": {},
   "outputs": [],
   "source": [
    "## Removing nonascii from posting_domain\n",
    "jobpost_df['posting_domain'] = jobpost_df['posting_domain'].apply(safe_normalize)\n",
    "jobpost_df['posting_domain'] = jobpost_df['posting_domain'].apply(lambda x: re.sub(r'[^\\x00-\\x7F]+', '', x))\n",
    "#jobpost_df = jobpost_df.replace({'\\'': '', '\"': '',',':''}, regex=True)"
   ]
  },
  {
   "cell_type": "code",
   "execution_count": 255,
   "id": "35d80f22",
   "metadata": {},
   "outputs": [],
   "source": [
    "## Removing nonascii from work_type\n",
    "jobpost_df['work_type'] = jobpost_df['work_type'].apply(safe_normalize)\n",
    "jobpost_df['work_type'] = jobpost_df['work_type'].apply(lambda x: re.sub(r'[^\\x00-\\x7F]+', '', x))\n",
    "#jobpost_df = jobpost_df.replace({'\\'': '', '\"': '',',':''}, regex=True)"
   ]
  },
  {
   "cell_type": "code",
   "execution_count": 256,
   "id": "ec439c8c",
   "metadata": {},
   "outputs": [],
   "source": [
    "## Removing nonascii from currency\n",
    "jobpost_df['currency'] = jobpost_df['currency'].apply(safe_normalize)\n",
    "jobpost_df['currency'] = jobpost_df['currency'].apply(lambda x: re.sub(r'[^\\x00-\\x7F]+', '', x))"
   ]
  },
  {
   "cell_type": "code",
   "execution_count": 257,
   "id": "fbe62063",
   "metadata": {},
   "outputs": [],
   "source": [
    "## Removing nonascii from compensation_type\n",
    "jobpost_df['compensation_type'] = jobpost_df['compensation_type'].apply(safe_normalize)\n",
    "jobpost_df['compensation_type'] = jobpost_df['compensation_type'].apply(lambda x: re.sub(r'[^\\x00-\\x7F]+', '', x))\n",
    "#jobpost_df = jobpost_df.replace({'\\'': '', '\"': '',',':''}, regex=True)"
   ]
  },
  {
   "cell_type": "code",
   "execution_count": 258,
   "id": "053da89f",
   "metadata": {},
   "outputs": [],
   "source": [
    "##Converting data types"
   ]
  },
  {
   "cell_type": "code",
   "execution_count": 259,
   "id": "f7f44cd1",
   "metadata": {},
   "outputs": [],
   "source": [
    "#datetime.strptime(jobpost_df['expiry'],''%d/%m/%Y')\n",
    "#pd.to_datetime(jobpost_df['expiry'], format='%d/%m/%Y')"
   ]
  },
  {
   "cell_type": "code",
   "execution_count": 260,
   "id": "46d843cf",
   "metadata": {},
   "outputs": [
    {
     "data": {
      "text/plain": [
       "job_id                          int64\n",
       "company_id                    float64\n",
       "title                          object\n",
       "max_salary                    float64\n",
       "min_salary                    float64\n",
       "pay_period                     object\n",
       "formatted_work_type            object\n",
       "location                       object\n",
       "applies                       float64\n",
       "original_listed_time          float64\n",
       "views                         float64\n",
       "job_posting_url                object\n",
       "application_url                object\n",
       "application_type               object\n",
       "expiry                         object\n",
       "formatted_experience_level     object\n",
       "listed_time                    object\n",
       "posting_domain                 object\n",
       "sponsored                       int64\n",
       "work_type                      object\n",
       "currency                       object\n",
       "compensation_type              object\n",
       "dtype: object"
      ]
     },
     "execution_count": 260,
     "metadata": {},
     "output_type": "execute_result"
    }
   ],
   "source": [
    "# Check the  data types\n",
    "jobpost_df.dtypes"
   ]
  },
  {
   "cell_type": "code",
   "execution_count": 261,
   "id": "1d66e308",
   "metadata": {},
   "outputs": [
    {
     "data": {
      "text/plain": [
       "job_id                          int64\n",
       "company_id                      int64\n",
       "title                          string\n",
       "max_salary                    float64\n",
       "min_salary                    float64\n",
       "pay_period                     string\n",
       "formatted_work_type            string\n",
       "location                       string\n",
       "applies                         int64\n",
       "original_listed_time          float64\n",
       "views                           int64\n",
       "job_posting_url                string\n",
       "application_url                string\n",
       "application_type               string\n",
       "expiry                         string\n",
       "formatted_experience_level     string\n",
       "listed_time                    string\n",
       "posting_domain                 string\n",
       "sponsored                       int64\n",
       "work_type                      string\n",
       "currency                       string\n",
       "compensation_type              string\n",
       "dtype: object"
      ]
     },
     "execution_count": 261,
     "metadata": {},
     "output_type": "execute_result"
    }
   ],
   "source": [
    "jobpost_df['job_id'] = jobpost_df['job_id'].astype('int64')\n",
    "jobpost_df['company_id'] = jobpost_df['company_id'].astype('int64')\n",
    "jobpost_df['title'] = jobpost_df['title'].astype('string') \n",
    "#jobpost_df['description'] = jobpost_df['description'].astype('string')  # Change to string data type\n",
    "jobpost_df['max_salary'] = jobpost_df['max_salary'].astype('float64')  # Change to string data type\n",
    "jobpost_df['min_salary'] = jobpost_df['min_salary'].astype('float64')  # Change to string data type\n",
    "jobpost_df['pay_period'] = jobpost_df['pay_period'].astype('string')  # Change to string data type\n",
    "\n",
    "jobpost_df['formatted_work_type'] = jobpost_df['formatted_work_type'].astype('string')  # Change to string data type\n",
    "jobpost_df['location'] = jobpost_df['location'].astype('string')  # Change to string data type\n",
    "jobpost_df['applies'] = jobpost_df['applies'].astype('int64')  # Change to string data type\n",
    "\n",
    "jobpost_df['original_listed_time'] = jobpost_df['original_listed_time'].astype('float64')\n",
    "jobpost_df['views'] = jobpost_df['views'].astype('int64')\n",
    "jobpost_df['job_posting_url'] = jobpost_df['job_posting_url'].astype('string')\n",
    "jobpost_df['application_url'] = jobpost_df['application_url'].astype('string')\n",
    "jobpost_df['application_type'] = jobpost_df['application_type'].astype('string')\n",
    "jobpost_df['expiry'] = jobpost_df['expiry'].astype('string')\n",
    "jobpost_df['formatted_experience_level'] = jobpost_df['formatted_experience_level'].astype('string')\n",
    "\n",
    "jobpost_df['listed_time'] = jobpost_df['listed_time'].astype('string')\n",
    "jobpost_df['posting_domain'] = jobpost_df['posting_domain'].astype('string')\n",
    "jobpost_df['sponsored'] = jobpost_df['sponsored'].astype('int64')\n",
    "jobpost_df['work_type'] = jobpost_df['work_type'].astype('string')\n",
    "\n",
    "\n",
    "jobpost_df['currency'] = jobpost_df['currency'].astype('string')\n",
    "jobpost_df['compensation_type'] = jobpost_df['compensation_type'].astype('string')\n",
    "\n",
    "# Check the updated data types\n",
    "jobpost_df.dtypes"
   ]
  },
  {
   "cell_type": "code",
   "execution_count": 262,
   "id": "15f83549",
   "metadata": {},
   "outputs": [
    {
     "data": {
      "text/plain": [
       "job_id                        15520\n",
       "company_id                    15520\n",
       "title                         15520\n",
       "max_salary                    15520\n",
       "min_salary                    15520\n",
       "pay_period                    15520\n",
       "formatted_work_type           15520\n",
       "location                      15520\n",
       "applies                       15520\n",
       "original_listed_time          15520\n",
       "views                         15520\n",
       "job_posting_url               15520\n",
       "application_url               15520\n",
       "application_type              15520\n",
       "expiry                        15520\n",
       "formatted_experience_level    15520\n",
       "listed_time                   15520\n",
       "posting_domain                15520\n",
       "sponsored                     15520\n",
       "work_type                     15520\n",
       "currency                      15520\n",
       "compensation_type             15520\n",
       "dtype: int64"
      ]
     },
     "execution_count": 262,
     "metadata": {},
     "output_type": "execute_result"
    }
   ],
   "source": [
    "jobpost_df.count()"
   ]
  },
  {
   "cell_type": "code",
   "execution_count": 264,
   "id": "82a8805d",
   "metadata": {},
   "outputs": [],
   "source": [
    "jobpost_df.to_csv('../preprocessed_job_postings.csv',index=False, encoding = 'utf-8')"
   ]
  },
  {
   "cell_type": "code",
   "execution_count": null,
   "id": "d8c2a0f0",
   "metadata": {},
   "outputs": [],
   "source": []
  },
  {
   "cell_type": "code",
   "execution_count": null,
   "id": "28903a05",
   "metadata": {},
   "outputs": [],
   "source": []
  },
  {
   "cell_type": "code",
   "execution_count": null,
   "id": "f6689dd0",
   "metadata": {},
   "outputs": [],
   "source": []
  }
 ],
 "metadata": {
  "kernelspec": {
   "display_name": "Python 3 (ipykernel)",
   "language": "python",
   "name": "python3"
  },
  "language_info": {
   "codemirror_mode": {
    "name": "ipython",
    "version": 3
   },
   "file_extension": ".py",
   "mimetype": "text/x-python",
   "name": "python",
   "nbconvert_exporter": "python",
   "pygments_lexer": "ipython3",
   "version": "3.11.4"
  }
 },
 "nbformat": 4,
 "nbformat_minor": 5
}
