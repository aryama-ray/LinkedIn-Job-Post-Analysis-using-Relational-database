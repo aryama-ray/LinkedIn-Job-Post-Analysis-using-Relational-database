{
 "cells": [
  {
   "cell_type": "code",
   "execution_count": null,
   "id": "5e45965e",
   "metadata": {},
   "outputs": [],
   "source": [
    "import pandas as pd\n",
    "\n",
    "# write the file name here\n",
    "df = pd.read_csv('.csv')\n",
    "\n",
    "\n",
    "df"
   ]
  },
  {
   "cell_type": "code",
   "execution_count": null,
   "id": "04495b1c",
   "metadata": {},
   "outputs": [],
   "source": [
    "df = df.dropna()\n",
    "\n",
    "df"
   ]
  },
  {
   "cell_type": "code",
   "execution_count": null,
   "id": "d3b3eaa1",
   "metadata": {},
   "outputs": [],
   "source": [
    "df = df.drop_duplicates()\n",
    "df"
   ]
  },
  {
   "cell_type": "code",
   "execution_count": 65,
   "id": "1662c59c",
   "metadata": {
    "scrolled": true
   },
   "outputs": [],
   "source": [
    "import os\n",
    "import datetime as dt\n",
    "import numpy as np\n",
    "import unicodedata\n",
    "import re\n",
    "from datetime import datetime"
   ]
  },
  {
   "cell_type": "code",
   "execution_count": 66,
   "id": "ed210965",
   "metadata": {},
   "outputs": [],
   "source": [
    "\n",
    "def safe_normalize(x):\n",
    "    if isinstance(x, str):\n",
    "        return unicodedata.normalize('NFC', x)\n",
    "    else:\n",
    "        return str(x)\n",
    "# write the column names which you want to process (mostly object type, string, text sometimes)\n",
    "k = ''"
   ]
  },
  {
   "cell_type": "code",
   "execution_count": null,
   "id": "1bec5e75",
   "metadata": {},
   "outputs": [],
   "source": [
    "df[k] = df[k].apply(safe_normalize)\n",
    "df[k] = df[k].apply(lambda x: re.sub(r'[^\\x00-\\x7F]+', '', x))"
   ]
  },
  {
   "cell_type": "code",
   "execution_count": 68,
   "id": "59f3bc80",
   "metadata": {},
   "outputs": [],
   "source": [
    "df.to_csv('comps_ind235.csv', sep=',', index=False, encoding='utf-8')"
   ]
  },
  {
   "cell_type": "code",
   "execution_count": null,
   "id": "0f2c5797",
   "metadata": {},
   "outputs": [],
   "source": []
  }
 ],
 "metadata": {
  "kernelspec": {
   "display_name": "Python 3 (ipykernel)",
   "language": "python",
   "name": "python3"
  },
  "language_info": {
   "codemirror_mode": {
    "name": "ipython",
    "version": 3
   },
   "file_extension": ".py",
   "mimetype": "text/x-python",
   "name": "python",
   "nbconvert_exporter": "python",
   "pygments_lexer": "ipython3",
   "version": "3.9.6"
  }
 },
 "nbformat": 4,
 "nbformat_minor": 5
}
